{
 "cells": [
  {
   "cell_type": "markdown",
   "metadata": {},
   "source": [
    "# This page only includes news and activities of my professional career\n"
   ]
  },
   {
   "cell_type": "markdown",
   "metadata": {},
   "source": [
    "**2021**"
   ]
  },
   {
   "cell_type": "markdown",
   "metadata": {},
   "source": [
    "1a. 1AC ACM CHI 2023. \n",
    "\n",
  },
  {
   "cell_type": "markdown",
   "metadata": {},
   "source": [
    "**2021**"
   ]
  },
  {
   "cell_type": "markdown",
   "metadata": {},
   "source": [
    "1a. AC ACM CSCW 2021-2022. \n",
    "\n",
    "1b. AC for ACM CSCW 2021. \n",
    "\n",
    "2. JCSCW 2021, special issue. **pending\n",
    "\n",
    "3. Reviewer for the 23rd ACM International Conference on Multimodal Interaction\n",
    "\n",
    "**Past\n",
    "1. AC for ACM CHI conference 2021\n",
    "2. AC for ACM DIS 2021\n",
    "3. Reviewer for J. Technology, Knowledge and Learning.\n",
    "4. Reviewer for ACM Interaction Design and Children (IDC) "
   ]
  },
  {
   "cell_type": "markdown",
   "metadata": {},
   "source": [
    "**2020**"
   ]
  },
  {
   "cell_type": "markdown",
   "metadata": {},
   "source": [
    "1. Reviewer, MIS Quarterly\n",
    "2. Reviewer, Journal of Technology, knowlege and learning, Springer\n",
    "3. Reviewer, Applied Science, MDPI.\n",
    "4. New research project grant: The development of cue-based informational aid for digital twin-oriented navigation of Gunnerus ship\n"
   ]
  },
  {
   "cell_type": "markdown",
   "metadata": {},
   "source": [
    "**2019**"
   ]
  },
  {
   "cell_type": "markdown",
   "metadata": {},
   "source": [
    "1. Reviewer, Ocean engineering (Human factor in computing systems)\n",
    "2. Reviewer, IEEE Transactions on Systems, Man, and Cybernetics: Systems \n",
    "3. Reviewer, Computer Applications in Engineering Education, Wiely"
   ]
  },
  {
   "cell_type": "markdown",
   "metadata": {},
   "source": [
    "**2018**"
   ]
  },
  {
   "cell_type": "markdown",
   "metadata": {},
   "source": [
    "1. Reviewer, ACM SIGCHI NordiCHI conference\n",
    "2. Reviewer, Technological Forecasting and Social Change, Elsevier"
   ]
  },
  {
   "cell_type": "markdown",
   "metadata": {},
   "source": [
    "**2015-2017**"
   ]
  },
  {
   "cell_type": "markdown",
   "metadata": {},
   "source": [
    "1. Reviewer, ACM SIGCHI NordiCHI conference\n",
    "2. Reviewer, ACM SIGCHI CSCW\n",
    "3. Chinese government scholarship for outstanding PhD students studying abroad. The Chinese Government Award for Outstanding PhD Students Abroad is a prestigious national award in China. The award is a recognition of top Chinese PhD students across all fields of study in the world."
   ]
  }
 ],
 "metadata": {
  "kernelspec": {
   "display_name": "Python 3",
   "language": "python",
   "name": "python3"
  },
  "language_info": {
   "codemirror_mode": {
    "name": "ipython",
    "version": 3
   },
   "file_extension": ".py",
   "mimetype": "text/x-python",
   "name": "python",
   "nbconvert_exporter": "python",
   "pygments_lexer": "ipython3",
   "version": "3.8.5"
  }
 },
 "nbformat": 4,
 "nbformat_minor": 4
}
